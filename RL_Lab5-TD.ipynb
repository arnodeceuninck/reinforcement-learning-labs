{
 "cells": [
  {
   "cell_type": "markdown",
   "metadata": {},
   "source": [
    "**Student Name**:\n",
    "\n",
    "**Student ID**:"
   ]
  },
  {
   "cell_type": "markdown",
   "metadata": {},
   "source": [
    "# Lab 5: Temporal Difference Methods\n",
    "\n",
    "### Instructions: **TODO** tags\n",
    "In this lab, you will implement Temporal Difference methods. You will first have to implement the algorithms, then study and compare them:\n",
    "1. **Policy Evaluation**: provided the same arbitrary policy $\\pi$ from the previous lab, compute its value function $v_\\pi$ using TD.\n",
    "2. **SARSA**: implement SARSA, i.e. TD Control, to find an optimal soft policy, using an $\\epsilon$-greedy policy.\n",
    "3. **QLearning**: implement QLearning and Double Q Learning.\n",
    "4. **Comparison**: run all algorithms for multiple seeds and compare the results \n",
    "5. **Playground**: Study the hyperparameters of QLearning \n",
    "\n",
    "As usual, please *read* and *run* the notebook chronologically, and fill in the **TODO**s as you encounter them.\n",
    "* <span style=\"color:blue\"> Blue **TODOs** </span> means you have to implement the TODOs in the code.\n",
    "* <span style=\"color:red\"> Red **TODOs** </span> means you have to submit an explanation (of graph/results/theory).\n",
    "\n",
    "At each section, <span style=\"color:green\"> (xx points) </span> indicates the number of points of the entire section (labs are graded out of 10).\n",
    "\n",
    "### Environment\n",
    "The env is the same 4room env from last time."
   ]
  },
  {
   "cell_type": "code",
   "execution_count": 1,
   "metadata": {},
   "outputs": [],
   "source": [
    "# -*- coding: utf-8 -*-\n",
    "from __future__ import unicode_literals\n",
    "import numpy as np\n",
    "import gym\n",
    "from gym import spaces\n",
    "import matplotlib\n",
    "import matplotlib.pyplot as plt\n",
    "import matplotlib.colors as clr\n",
    "from matplotlib import cm\n",
    "import random\n",
    "from copy import copy"
   ]
  },
  {
   "cell_type": "code",
   "execution_count": 2,
   "metadata": {},
   "outputs": [],
   "source": [
    "class FourRoomsEnv(gym.Env):\n",
    "    \"\"\" Small Gridworld environment with 4 rooms.\n",
    "    Starting up left, goal in lower-right.\n",
    "    The main challenge is that the reward is sparse (1_goal)\n",
    "        \"\"\"\n",
    "    def __init__(self, explo_starts=False, max_steps=None):\n",
    "        self.roomsize = 5\n",
    "        self.height = 2*self.roomsize +1 # +1 is obstacle width\n",
    "        self.width = self.height\n",
    "        half = self.width // 2 # shortcut\n",
    "        quarter = half // 2 # shortcut\n",
    "        self.gamma = 0.9\n",
    "        self.t = 0\n",
    "        self.max_steps = max_steps\n",
    "        self.explo_starts = explo_starts\n",
    "        self.action_space = spaces.Discrete(4)\n",
    "        self.observation_space = spaces.Tuple((\n",
    "                spaces.Discrete(self.height),\n",
    "                spaces.Discrete(self.width)\n",
    "                ))\n",
    "        self.shapes = ((11,11),4)\n",
    "\n",
    "        self.moves = {\n",
    "                0: (-1, 0),  # up\n",
    "                1: (0, 1),   # right\n",
    "                2: (1, 0),   # down\n",
    "                3: (0, -1),  # left\n",
    "                }\n",
    "        self.moves_to_str = {\n",
    "                0: u'↑',\n",
    "                1: u'→',\n",
    "                2: u'↓',\n",
    "                3: u'←',\n",
    "                }\n",
    "        \n",
    "        self.terminal = (self.height-1,self.width-1) # terminal state\n",
    "        horizontal  = [(i, half) for i in range(self.width)]\n",
    "        vertical    = [(half, i) for i in range(self.height)]\n",
    "        self.obstacles = horizontal + vertical\n",
    "        # now opening the 4 passages\n",
    "        for state in [(quarter,half), (half,quarter), (half,self.height-quarter), (self.height-quarter,half)]:\n",
    "            self.obstacles.remove(state)\n",
    "        self.start = (0,0)\n",
    "        # begin in start state\n",
    "        self.reset()\n",
    "\n",
    "    def reset(self):\n",
    "        if self.max_steps is not None:\n",
    "            self.t = 0\n",
    "        if self.explo_starts:\n",
    "            while True:\n",
    "                s = self.observation_space.sample()\n",
    "                if s not in self.obstacles + [self.terminal]:\n",
    "                    break\n",
    "            self.s = s\n",
    "            #print(\"Random Start at S={}\".format(s))\n",
    "                \n",
    "        else:\n",
    "            self.s = self.start\n",
    "        return self.s\n",
    "\n",
    "    def step(self, action):\n",
    "        \"\"\" Moves the agent in the action direction.\"\"\"\n",
    "        # Next, moving according to action\n",
    "        x, y = self.moves[action]\n",
    "        if (self.s[0]+x, self.s[1]+y) not in self.obstacles:\n",
    "            # move is allowed\n",
    "            self.s = self.s[0] + x, self.s[1] + y\n",
    "\n",
    "            # Finally, setting the agent back into the grid if fallen out\n",
    "            self.s = (max(0, self.s[0]), max(0, self.s[1]))\n",
    "            self.s = (min(self.s[0], self.height - 1),\n",
    "                      min(self.s[1], self.width - 1))\n",
    "\n",
    "        self.t += 1\n",
    "        done_goal = (self.s == self.terminal)\n",
    "        done = done_goal\n",
    "        if self.max_steps is not None and self.t == self.max_steps:\n",
    "            done = True\n",
    "            self.t = 0\n",
    "        return self.s, int(done_goal), done, {}\n",
    "    \n",
    "    def is_terminal(self, state):\n",
    "        return state == self.terminal\n",
    "    \n",
    "    def p(self, state, action):\n",
    "        assert not self.is_terminal(state)\n",
    "        self.s = state\n",
    "        next_state, reward, done, info = self.step(action)\n",
    "        return {(next_state, reward): 1}\n",
    "    \n",
    "    def states(self):\n",
    "        ss = []\n",
    "        for i in range(self.height):\n",
    "            for j in range(self.width):\n",
    "                if (i,j) not in self.obstacles:\n",
    "                    ss.append((i,j))\n",
    "        return ss \n",
    "    \n",
    "    def plot_values_policy(self, values, policy, plot_all_policy=False, cbar=True):\n",
    "        \"\"\" Visualizes a policy and value function given an agent with V and policy.\"\"\"\n",
    "        fig, ax = plt.subplots()\n",
    "        values[tuple(zip(*self.obstacles))] = None # -1\n",
    "        cmap = copy(cm.get_cmap(\"RdYlGn\"))\n",
    "        # modify colormap\n",
    "        l = np.array([cmap(i) for i in range(cmap.N)]).T\n",
    "        l[0:2] = np.clip(l[0:2], 0,0.9)\n",
    "        l[2] = np.clip(l[2], 0,0.25)\n",
    "        l = l.T\n",
    "        my_cmap = matplotlib.colors.ListedColormap(l, name = 'nani')\n",
    "        my_cmap.set_bad('black')\n",
    "\n",
    "        im = ax.imshow(values, cmap=my_cmap)\n",
    "        for i in range(self.height):\n",
    "            for j in range(self.width):\n",
    "                s = (i,j)\n",
    "                if s not in self.obstacles:\n",
    "                    t = self.moves_to_str[policy[s]] if not self.is_terminal(s) \\\n",
    "                                                        and ((values[s] != 0) or (plot_all_policy)) else \"\"\n",
    "                    text = ax.text(j, i, t,\n",
    "                                   ha=\"center\", va=\"center\", color=\"w\", fontsize=15)\n",
    "\n",
    "        ax.set_title(\"Value function and Policy visualization\")\n",
    "        fig.tight_layout()\n",
    "        if cbar:\n",
    "            plt.colorbar(im)\n",
    "        plt.show()"
   ]
  },
  {
   "cell_type": "markdown",
   "metadata": {},
   "source": [
    "## 1. <span style=\"color:green\"> (2 points) </span> Policy Evaluation\n",
    "\n",
    "### 1.1 Defining and visualizing the policy\n",
    "We are using the same Env and policy as the MC lab:"
   ]
  },
  {
   "cell_type": "code",
   "execution_count": 3,
   "metadata": {},
   "outputs": [
    {
     "data": {
      "image/png": "[encoded data removed]",
      "text/plain": [
       "<Figure size 432x288 with 1 Axes>"
      ]
     },
     "metadata": {
      "needs_background": "light"
     },
     "output_type": "display_data"
    }
   ],
   "source": [
    "# Defining the environment\n",
    "np.random.seed(54)\n",
    "env = FourRoomsEnv()\n",
    "# Defining the policy\n",
    "pi = {s:np.random.choice([1,2]) for s in env.states()}\n",
    "# Visualizing the environment and policy\n",
    "zero_values = np.zeros(env.shapes[0])\n",
    "zero_values[env.terminal] = 1\n",
    "env.plot_values_policy(zero_values, pi, plot_all_policy = True, cbar=False)\n",
    "np.random.seed(None)"
   ]
  },
  {
   "cell_type": "markdown",
   "metadata": {},
   "source": [
    "### 1.2. DP Policy Evaluation\n",
    "Last time, you had to implement the DP solution for it. No need to redo it this time, here's the value function $v_\\pi$ of our policy $\\pi$ for all the states:"
   ]
  },
  {
   "cell_type": "code",
   "execution_count": 4,
   "metadata": {},
   "outputs": [],
   "source": [
    "class DP_PolicyEvaluation():\n",
    "    def __init__(self, mdp):\n",
    "        self.mdp = mdp\n",
    "        self.gamma = self.mdp.gamma\n",
    "        self.V = np.zeros(self.mdp.shapes[0])\n",
    "        \n",
    "    def run(self, pi, delta):\n",
    "        sweeps = 0\n",
    "        while True:\n",
    "            norm = 0\n",
    "            sweeps += 1\n",
    "            for s in self.mdp.states():\n",
    "                if not self.mdp.is_terminal(s):\n",
    "                    v = self.V[s]\n",
    "                    a = pi[s]\n",
    "                    psa = self.mdp.p(s,a)\n",
    "                    self.V[s] = sum([psa[s_,r]*(r+self.gamma*self.V[s_]) for s_,r in psa.keys()])\n",
    "                    norm = max(norm, abs(v-self.V[s]))\n",
    "            # exit condition\n",
    "            if norm < delta:\n",
    "                print(\"Exiting PEval through norm={:7f} < {:7f}=delta after {} sweeps\".format(norm, delta, sweeps))\n",
    "                break\n",
    "        "
   ]
  },
  {
   "cell_type": "code",
   "execution_count": 5,
   "metadata": {},
   "outputs": [
    {
     "name": "stdout",
     "output_type": "stream",
     "text": [
      "Exiting PEval through norm=0.000000 < 0.001000=delta after 15 sweeps\n"
     ]
    },
    {
     "data": {
      "image/png": "[encoded data removed]",
      "text/plain": [
       "<Figure size 432x288 with 2 Axes>"
      ]
     },
     "metadata": {
      "needs_background": "light"
     },
     "output_type": "display_data"
    }
   ],
   "source": [
    "agent_dp = DP_PolicyEvaluation(env)\n",
    "agent_dp.run(pi, delta=1e-3)\n",
    "env.plot_values_policy(agent_dp.V, pi, plot_all_policy = True)"
   ]
  },
  {
   "cell_type": "markdown",
   "metadata": {},
   "source": [
    "### 1.3.  <span style=\"color:blue\"> **TODO** </span> TD Policy Evaluation\n",
    "\n",
    "We will now find $v_\\pi$ simply by interacting with the environment, using Temporal Difference Learning."
   ]
  },
  {
   "cell_type": "markdown",
   "metadata": {},
   "source": [
    "- <span style=\"color:red\"> **TODO** </span>: **Remind** the main difference between Monte Carlo methods and Temporal Difference Learning. <br/> (your answer here)\n",
    "- <span style=\"color:blue\"> **TODO** </span>: **Implement** TD Policy Evaluation provided the policy $\\pi$ we have already evaluated."
   ]
  },
  {
   "cell_type": "code",
   "execution_count": 6,
   "metadata": {},
   "outputs": [],
   "source": [
    "class TDPolicyEval():\n",
    "    \"\"\" Given a policy, uses that policy to act in the environment.\n",
    "    Learns its V value.\n",
    "    \"\"\"\n",
    "    def __init__(self, env_shapes, pi, epsilon=0.1, gamma=0.9, alpha=0.1, **kwargs):\n",
    "        if env_shapes is not None: # otherwise, bandits\n",
    "            self.input_shape, self.n_actions = env_shapes\n",
    "        self.gamma = gamma\n",
    "        self.epsilon = epsilon\n",
    "        self.pi = pi\n",
    "        self.alpha = alpha\n",
    "        self.reset()\n",
    "\n",
    "    def reset(self):\n",
    "        # TODO\n",
    "        raise NotImplementedError(\"reset method of the TDPolicyEval Agent\")\n",
    "        \n",
    "    def act(self, s):\n",
    "        # TODO\n",
    "        raise NotImplementedError(\"act method of the TDPolicyEval Agent\")\n",
    "\n",
    "    def learn(self, s, a, r, s_, d=False):\n",
    "        # TODO\n",
    "        raise NotImplementedError(\"learn method of the TDPolicyEval Agent\")"
   ]
  },
  {
   "cell_type": "code",
   "execution_count": 7,
   "metadata": {},
   "outputs": [],
   "source": [
    "# Learning and visualization. Nothing to do here.\n",
    "def learn_v_pi(agent, env, n_episodes):\n",
    "    evaluations_history = []\n",
    "    agent.reset()\n",
    "    first = True\n",
    "    # Training phase\n",
    "    for ep in range(n_episodes):\n",
    "        s = env.reset()\n",
    "        while True: # step limit implemented in Env\n",
    "            action = agent.act(s) # must be = pi[s]\n",
    "            s_, reward, done, info = env.step(action)\n",
    "            agent.learn(s, action, reward, s_, done)\n",
    "            if done:\n",
    "                break\n",
    "            s = s_\n",
    "        if first and np.any(agent.V != 0):\n",
    "            print(\"V visualization after the first rewarding episode observed - episode {}:\".format(ep))\n",
    "            env.plot_values_policy(agent.V, agent.pi, plot_all_policy=True)\n",
    "            first = False\n",
    "        if not first and not ep % 200:\n",
    "            print(\"V visualization after episode {}:\".format(ep))\n",
    "            env.plot_values_policy(agent.V, agent.pi, plot_all_policy=True)\n",
    "        \n",
    "    print(\"Final V visualization: \")\n",
    "    env.plot_values_policy(agent.V, agent.pi, plot_all_policy=True)\n",
    "    env.close()"
   ]
  },
  {
   "cell_type": "markdown",
   "metadata": {},
   "source": [
    "We're using Exploring Starts as before, because we want to see the Value map for all states."
   ]
  },
  {
   "cell_type": "code",
   "execution_count": null,
   "metadata": {},
   "outputs": [],
   "source": [
    "env = FourRoomsEnv(explo_starts=True, max_steps = 50)\n",
    "d = {\n",
    "    'env_shapes': env.shapes,\n",
    "    'epsilon': 0.2,\n",
    "    'alpha' : 0.1,\n",
    "    'gamma': env.gamma,\n",
    "    'pi' : pi\n",
    "}\n",
    "agent_td = TDPolicyEval(**d)\n",
    "learn_v_pi(agent_td, env, 1000)"
   ]
  },
  {
   "cell_type": "markdown",
   "metadata": {},
   "source": [
    "Reminder, to compare with the DP solution:"
   ]
  },
  {
   "cell_type": "code",
   "execution_count": 9,
   "metadata": {},
   "outputs": [
    {
     "data": {
      "image/png": "[encoded data removed]",
      "text/plain": [
       "<Figure size 432x288 with 2 Axes>"
      ]
     },
     "metadata": {
      "needs_background": "light"
     },
     "output_type": "display_data"
    }
   ],
   "source": [
    "env.plot_values_policy(agent_dp.V, pi, plot_all_policy = True)"
   ]
  },
  {
   "cell_type": "markdown",
   "metadata": {},
   "source": [
    "<span style=\"color:red\"> **TODO** </span>: As you might notice, DP isn't as fast as was MC in this case. This is due to the very specific problem we're trying to solve, **can you see why**? **What** could we do to take advantage of the situation? If you have an idea, **apply** your changes and show the difference in a cell below.\n",
    "\n",
    "(your answer here)"
   ]
  },
  {
   "cell_type": "markdown",
   "metadata": {},
   "source": [
    "## 2. <span style=\"color:green\"> (2 points) </span> <span style=\"color:blue\"> **TODO** </span> SARSA\n",
    "SARSA is the Control version of TD-learning. \n",
    "\n",
    "- <span style=\"color:red\"> **TODO** </span> **Remind** how to get from TD to SARSA, and the theoretical justification behind this.<br/> (your answer here)\n",
    "- <span style=\"color:blue\"> **TODO** </span> **Implement** SARSA."
   ]
  },
  {
   "cell_type": "code",
   "execution_count": 11,
   "metadata": {},
   "outputs": [],
   "source": [
    "# Nothing to do in this cell.\n",
    "def allmax(a):\n",
    "    \"\"\" Returns all occurences of the max \"\"\"\n",
    "    if len(a) == 0:\n",
    "        return []\n",
    "    all_ = [0]\n",
    "    max_ = a[0]\n",
    "    for i in range(1, len(a)):\n",
    "        if a[i] > max_:\n",
    "            all_ = [i]\n",
    "            max_ = a[i]\n",
    "        elif a[i] == max_:\n",
    "            all_.append(i)\n",
    "    return all_\n",
    "\n",
    "def my_argmax(v):\n",
    "    \"\"\" Breaks ties randomly. \"\"\"\n",
    "    return random.choice(allmax(v))"
   ]
  },
  {
   "cell_type": "code",
   "execution_count": 12,
   "metadata": {},
   "outputs": [],
   "source": [
    "class SARSA():\n",
    "    \"\"\" Tabular method that keeps the Q-values of all the possible\n",
    "    state-action pairs; applies TD for Policy Evaluation. \n",
    "    On-Policy algo using epsilon-greedy.\n",
    "    \"\"\"\n",
    "    def __init__(self, env_shapes, epsilon=0.1, gamma=0.9, alpha=.1, **kwargs):\n",
    "        if env_shapes is not None: # otherwise, bandits\n",
    "            self.input_shape, self.n_actions = env_shapes\n",
    "        self.gamma = gamma\n",
    "        self.epsilon = epsilon\n",
    "        self.alpha = alpha\n",
    "        # TODO, if you have stuff to add\n",
    "\n",
    "    def reset(self):\n",
    "        # TODO\n",
    "        raise NotImplementedError(\"reset method of the SARSA Agent\")\n",
    "\n",
    "    def act(self, s):\n",
    "        # TODO\n",
    "        raise NotImplementedError(\"act method of the SARSA Agent\")\n",
    "\n",
    "    def learn(self, s, a, r, s_, d=False):\n",
    "        # TODO\n",
    "        raise NotImplementedError(\"learn method of the SARSA Agent\")"
   ]
  },
  {
   "cell_type": "code",
   "execution_count": 13,
   "metadata": {},
   "outputs": [],
   "source": [
    "def view_train_agent(agent, env, n_episodes, plot=True, out_reward=False):\n",
    "    \"\"\" Trains an agent on an env for a given amount of steps.\n",
    "    If out_reward=False, returns the steps_history of the agent, i.e. number of steps each episode took.\n",
    "    If out_reward=True, returns the running reward.\"\"\"\n",
    "    view = [0,1,3,5,10,100,500]\n",
    "    agent.reset()\n",
    "    # Training phase\n",
    "    returns_history = np.empty(n_episodes) # all cumulative rewards during training\n",
    "    steps_history = np.empty(n_episodes)\n",
    "    for ep in range(n_episodes):\n",
    "        t = 0\n",
    "        s = env.reset()\n",
    "        cum_r = 0 # cumulative reward\n",
    "        while True:\n",
    "            action = agent.act(s)\n",
    "            s_, reward, done, info = env.step(action)\n",
    "            agent.learn(s, action, reward, s_, done)\n",
    "            cum_r += reward\n",
    "            if done:\n",
    "                break\n",
    "            s = s_\n",
    "            t += 1\n",
    "        if plot and ep in view:\n",
    "            print(\"Best Q and action after episode {}:\".format(ep))\n",
    "            best_qs = np.max(agent.Q, axis=-1)\n",
    "            greedy_policy = np.argmax(agent.Q, axis=-1)\n",
    "            env.plot_values_policy(best_qs, greedy_policy)\n",
    "\n",
    "        steps_history[ep] = t\n",
    "        returns_history[ep] = cum_r\n",
    "        \n",
    "    if plot:\n",
    "        print(\"Final Q and policy:\")\n",
    "        best_qs = np.max(agent.Q, axis=-1)\n",
    "        greedy_policy = np.argmax(agent.Q, axis=-1)\n",
    "        env.plot_values_policy(best_qs, greedy_policy)\n",
    "    env.close()\n",
    "    if out_reward:\n",
    "        return returns_history\n",
    "    else:\n",
    "        return steps_history"
   ]
  },
  {
   "cell_type": "markdown",
   "metadata": {},
   "source": [
    "Since there is now stochastic exploration, the episodes will all reach the terminal state, if given enough time. We can remove both the step limit and Exploring Starts."
   ]
  },
  {
   "cell_type": "code",
   "execution_count": null,
   "metadata": {},
   "outputs": [],
   "source": [
    "env = FourRoomsEnv()\n",
    "d = {\n",
    "    'env_shapes': env.shapes,\n",
    "    'alpha' : 0.2,\n",
    "    'epsilon': 0.2,\n",
    "    'gamma': env.gamma,\n",
    "    'q0' : 0,\n",
    "}\n",
    "agent = SARSA(**d)\n",
    "perf_sarsa = view_train_agent(agent, env, 2000)"
   ]
  },
  {
   "attachments": {
    "final_q_MCEG.png": {
     "image/png": "[encoded data removed]"
    },
    "q_MCEG2.png": {
     "image/png": "[encoded data removed]"
    }
   },
   "cell_type": "markdown",
   "metadata": {},
   "source": [
    "As a reminder, below are the values found by two independ runs of an epsilon-greedy Monte Carlo algorithm.\n",
    "\n",
    "<table><tr>\n",
    "<td> <img src=\"attachment:final_q_MCEG.png\" alt=\"Drawing\" style=\"width: 350px;\"/> </td>\n",
    "<td> <img src=\"attachment:q_MCEG2.png\" alt=\"Drawing\" style=\"width: 350px;\"/> </td>\n",
    "</tr></table>\n",
    "\n",
    "<span style=\"color:red\"> **TODO** </span>: **Can** you see a difference in the found policies? **Explain** why this is happening.\n",
    "\n",
    "(your answer here)"
   ]
  },
  {
   "cell_type": "markdown",
   "metadata": {},
   "source": [
    "## 3. <span style=\"color:green\"> (2 points) </span> <span style=\"color:blue\"> **TODO** </span> QLearning\n",
    "\n",
    "### 3.1. <span style=\"color:blue\"> **TODO** </span> Vanilla QLearning\n",
    "\n",
    "- <span style=\"color:red\"> **TODO** </span> **Explain** the difference in approach between SARSA and QLearning. <br/> (your answer here)\n",
    "- <span style=\"color:blue\"> **TODO** </span> **Implement** QLearning."
   ]
  },
  {
   "cell_type": "code",
   "execution_count": 15,
   "metadata": {},
   "outputs": [],
   "source": [
    "class QLearning():\n",
    "    # TODO: implement using the formalism from MC and SARSA\n",
    "    raise NotImplementedError(\"QLearning Agent\")"
   ]
  },
  {
   "cell_type": "code",
   "execution_count": null,
   "metadata": {},
   "outputs": [],
   "source": [
    "env = FourRoomsEnv()\n",
    "shapes = (tuple([env.observation_space[i].n for i in range(len(env.observation_space))]), env.action_space.n)\n",
    "d = {\n",
    "    'env_shapes': shapes,\n",
    "    'epsilon': 0.2,\n",
    "    'alpha' : 0.2,\n",
    "    'gamma': env.gamma,\n",
    "}\n",
    "agent = QLearning(**d)\n",
    "perf_ql = view_train_agent(agent, env, 2000)"
   ]
  },
  {
   "cell_type": "markdown",
   "metadata": {},
   "source": [
    "<span style=\"color:red\"> **TODO** </span>: **Interpret** briefly your results.\n",
    "\n",
    "(your answer here)"
   ]
  },
  {
   "attachments": {
    "double_q_env.png": {
     "image/png": "[encoded data removed]"
    }
   },
   "cell_type": "markdown",
   "metadata": {},
   "source": [
    "### 3.2. <span style=\"color:blue\"> **TODO** </span> Double Q Learning\n",
    "The benefits of Double Q Learning are clearest when using a very simple environment with the following MDP:\n",
    "<img src=\"attachment:double_q_env.png\" alt=\"Drawing\" style=\"width: 650px;\"/>"
   ]
  },
  {
   "cell_type": "code",
   "execution_count": 91,
   "metadata": {},
   "outputs": [],
   "source": [
    "class MaxBiasEnv(gym.Env):\n",
    "    def __init__(self):\n",
    "        # We choose arbitrarily the number of actions from B out\n",
    "        self.n_actions = 10\n",
    "        self.action_space = spaces.Discrete(self.n_actions)\n",
    "        self.shapes = ((3,),self.n_actions)\n",
    "        self.observation_space = spaces.Discrete(3) # A:0, B:1, Terminal: 2\n",
    "        self.gamma = 0.9\n",
    "        # begin in start state\n",
    "        self.reset()\n",
    "\n",
    "    def reset(self):\n",
    "        self.s = 1 # A\n",
    "        return self.s\n",
    "\n",
    "    def step(self, action):\n",
    "        \"\"\" Moves the agent in the action direction.\"\"\"\n",
    "        r = 0\n",
    "        if self.s == 1: # State A\n",
    "            # this is kind of lazy programming so that you can use your QLearning agent, but it means there are\n",
    "            # much more actions from A than necessary.\n",
    "            self.s += 2*(action%2) - 1 # {left, right}={0,1} -> {-1, 1}\n",
    "        elif self.s == 0: # State B\n",
    "            self.s = 2  # any action is terminal\n",
    "            r = np.random.randn() - 0.1\n",
    "        # Returns\n",
    "        done = (self.s==2)\n",
    "        return self.s, r, done, {}"
   ]
  },
  {
   "cell_type": "markdown",
   "metadata": {},
   "source": [
    "We will need to run these experiments many times to observe the expected result."
   ]
  },
  {
   "cell_type": "code",
   "execution_count": 93,
   "metadata": {},
   "outputs": [],
   "source": [
    "def train_agent_maxbias(agent, env, n_episodes):\n",
    "    \"\"\" Focuses on the amount of correct (right) action from A\"\"\"\n",
    "    agent.reset()\n",
    "    # Training phase\n",
    "    right_history = np.empty(n_episodes)\n",
    "    for ep in range(n_episodes):\n",
    "        s = env.reset()\n",
    "        while True:\n",
    "            action = agent.act(s)\n",
    "            if s==1: # A\n",
    "                right_history[ep] = action%2\n",
    "            s_, reward, done, info = env.step(action)\n",
    "            agent.learn(s, action, reward, s_, done)\n",
    "            if done:\n",
    "                break\n",
    "            s = s_        \n",
    "    env.close()\n",
    "    return right_history\n",
    "    \n",
    "def multiple_train_agent_maxbias(agent, env, n_episodes, n_s, out_reward=False):\n",
    "    perfs = np.empty((n_s, n_episodes))\n",
    "    for i in range(n_s):\n",
    "        perfs[i] = train_agent_maxbias(agent, env, n_episodes)\n",
    "    return np.mean(perfs, 0)"
   ]
  },
  {
   "cell_type": "code",
   "execution_count": null,
   "metadata": {},
   "outputs": [],
   "source": [
    "env = MaxBiasEnv()\n",
    "d[\"env_shapes\"] = env.shapes\n",
    "agent = QLearning(**d)\n",
    "perf_ql = multiple_train_agent_maxbias(agent, env, 300, 100)\n",
    "plt.plot(perf_ql)"
   ]
  },
  {
   "cell_type": "markdown",
   "metadata": {},
   "source": [
    "- <span style=\"color:red\"> **TODO** </span> **Explain** the problem that QLearning has that DoubleQLearning attempts to solve, as well as the attempted solution.\n",
    "\n",
    "(your answer here)\n",
    "- <span style=\"color:blue\"> **TODO** </span> **Implement** Double Q Learning."
   ]
  },
  {
   "cell_type": "code",
   "execution_count": 95,
   "metadata": {},
   "outputs": [],
   "source": [
    "class DoubleQLearning():\n",
    "    # TODO: implement using the formalism from MC and SARSA \n",
    "    raise NotImplementedError(\"Double Q Learning Agent\")"
   ]
  },
  {
   "cell_type": "code",
   "execution_count": null,
   "metadata": {},
   "outputs": [],
   "source": [
    "env = MaxBiasEnv()\n",
    "d[\"env_shapes\"] = env.shapes\n",
    "agent = DoubleQLearning(**d)\n",
    "perf_dql = multiple_train_agent_maxbias(agent, env, 300, 100)\n",
    "\n",
    "# Comaprison plot:\n",
    "plt.plot(perf_dql, label=\"DoubleQL\")\n",
    "plt.plot(perf_ql, label=\"QL\")\n",
    "plt.legend(); plt.title(\"QL versus DoubleQL on MaxBiasEnv; 300 runs\")\n",
    "plt.xlabel(\"Episodes\"); plt.ylabel(\"%age 'right' action from A\") \n",
    "plt.show()"
   ]
  },
  {
   "cell_type": "markdown",
   "metadata": {},
   "source": [
    "<span style=\"color:red\"> **TODO** </span> **Interpret** your results.\n",
    "\n",
    "(your answer here)"
   ]
  },
  {
   "cell_type": "markdown",
   "metadata": {},
   "source": [
    "## 4. <span style=\"color:green\"> (2 point) </span> <span style=\"color:red\"> **TODO** </span> Windy Environment Comparison \n",
    "The 4 Room Environment use until now is conveninent to track and understand how values are updated, but the deterministic setting makes it hard to compare the algorithms in general.\n",
    "\n",
    "Let's add noise to the environment. To prevent the noise from helping exploration (if it was just some randomness in the actions), we add wind: the agent is sometimes pushed to the right in the upper part of the environment, and to the left in the lower part, as if there were two opposite gusts of wind or big fans.\n",
    "\n",
    "In this section there will be nothing to implement! Just run the cells and interpret the final results."
   ]
  },
  {
   "cell_type": "code",
   "execution_count": 98,
   "metadata": {},
   "outputs": [],
   "source": [
    "class FourRoomsWindyEnv(FourRoomsEnv):    \n",
    "    def step(self, action):\n",
    "        \"\"\" Moves the agent in the action direction.\"\"\"\n",
    "        # Next, moving according to action\n",
    "        x, y = self.moves[action]                \n",
    "        # CHANGE: Apply wind. Agent might clip through walls by luck, but it's fine\n",
    "        if self.s[0] < self.height//2:\n",
    "            if np.random.rand() < 0.15:\n",
    "                y += 1\n",
    "        else:\n",
    "            if np.random.rand() < 0.15:\n",
    "                y -= 1\n",
    "        if (self.s[0]+x, self.s[1]+y) not in self.obstacles:\n",
    "            # move is allowed\n",
    "\n",
    "            self.s = self.s[0] + x, self.s[1] + y\n",
    "        \n",
    "\n",
    "        # Finally, setting the agent back into the grid if fallen out\n",
    "        self.s = (max(0, self.s[0]), max(0, self.s[1]))\n",
    "        self.s = (min(self.s[0], self.height - 1),\n",
    "                  min(self.s[1], self.width - 1))\n",
    "\n",
    "        self.t += 1\n",
    "        done_goal = (self.s == self.terminal)\n",
    "        done = done_goal\n",
    "        if self.max_steps is not None and self.t == self.max_steps:\n",
    "            done = True\n",
    "            self.t = 0\n",
    "        return self.s, int(done_goal), done, {}"
   ]
  },
  {
   "cell_type": "markdown",
   "metadata": {},
   "source": [
    "Now we would like to test all our agents so far on this environment. First, let's reintroduce the On-policy MC agent:"
   ]
  },
  {
   "cell_type": "code",
   "execution_count": 99,
   "metadata": {},
   "outputs": [],
   "source": [
    "class EGMonteCarlo():\n",
    "    \"\"\" Tabular method that keeps the Q-values of all the possible\n",
    "    state-action pairs; updates on an episode-wise schedule\n",
    "    On-Policy version using epsilon-greedy\n",
    "    \"\"\"\n",
    "    def __init__(self, env_shapes, epsilon=0.1, gamma=0.9, **kwargs):\n",
    "        if env_shapes is not None: # otherwise, bandits\n",
    "            self.input_shape, self.n_actions = env_shapes\n",
    "        self.gamma = gamma\n",
    "        self.epsilon = epsilon\n",
    "        self.reset()\n",
    "\n",
    "    def _episodic_reset(self):\n",
    "        \"\"\" Resets the history, G and W variables for another episode \"\"\"\n",
    "        self.trajectory = []\n",
    "\n",
    "    def reset(self):\n",
    "        self.Q = np.zeros((*self.input_shape, self.n_actions)) # Q value estimates\n",
    "        self.C = np.zeros((*self.input_shape, self.n_actions))\n",
    "        self._episodic_reset()\n",
    "\n",
    "    def act(self, s):\n",
    "        \"\"\" Epsilon-greedy policy over the Qtable \"\"\"\n",
    "        s = tuple(s) # to access somewhere in the table\n",
    "        if np.random.rand() < self.epsilon:\n",
    "            action = np.random.choice(self.n_actions)\n",
    "        else:\n",
    "            action = my_argmax(self.Q[s])\n",
    "\n",
    "        return action\n",
    "\n",
    "    def learn(self, s, a, r, s_, d=False):\n",
    "        \"\"\" Only applies the update over the whole episode when the latter has\n",
    "        terminated and a history is available. Stocks said history. \"\"\"\n",
    "        assert type(d) is bool, \"MonteCarlo needs a boolean done signal.\"\n",
    "        self.trajectory.append([s,a,r])\n",
    "        if d:\n",
    "            G = 0\n",
    "            for s,a,r in reversed(self.trajectory):\n",
    "                G = G*self.gamma + r\n",
    "                self.C[s][a] += 1\n",
    "                self.Q[s][a] += (G - self.Q[s][a])/self.C[s][a]\n",
    "\n",
    "            self._episodic_reset()"
   ]
  },
  {
   "cell_type": "code",
   "execution_count": 100,
   "metadata": {},
   "outputs": [],
   "source": [
    "env = FourRoomsWindyEnv()"
   ]
  },
  {
   "cell_type": "markdown",
   "metadata": {},
   "source": [
    "Before anything, run the next cell to visualize QLearning's solution of our modified environment:"
   ]
  },
  {
   "cell_type": "code",
   "execution_count": null,
   "metadata": {},
   "outputs": [],
   "source": [
    "d = {\n",
    "    'env_shapes': env.shapes,\n",
    "    'epsilon': 0.2,\n",
    "    'alpha' : 0.2,\n",
    "    'gamma': env.gamma,\n",
    "}\n",
    "agent = QLearning(**d)\n",
    "perf_ql = view_train_agent(agent, env, 2000)"
   ]
  },
  {
   "cell_type": "markdown",
   "metadata": {},
   "source": [
    "Let's compare the number of steps needed to reach the goal during learning. \n",
    "\n",
    "Since a lot of randomness is now involved in the process, and different random seeds might lead to vastly different performances, we will now average over $n_s=100$ random seeds to obtain an estimate of the average performance.\n",
    "\n",
    "If your python setup and PC support the `parallel_` function, feel free to use it to speed the computation up by a factor of around 2. It was quite lazy programming, so be careful not to have too much stuff open or it might crash; sorry about that. Otherwise, use the `multiple_train_agent` function below to run each agent over multiple seeds."
   ]
  },
  {
   "cell_type": "code",
   "execution_count": null,
   "metadata": {},
   "outputs": [],
   "source": [
    "import time\n",
    "def multiple_train_agent(agent, env, n_episodes, n_s, out_reward=False):\n",
    "    init = time.time()\n",
    "    perfs = np.empty((n_s, n_episodes))\n",
    "    for i in range(n_s):\n",
    "        perfs[i] = view_train_agent(agent, env, n_episodes, plot=False)\n",
    "    end = time.time()\n",
    "    print(\"Done in {}s\".format(end-init))\n",
    "    return np.mean(perfs, 0)\n",
    "\n",
    "from multiprocessing import Pool\n",
    "def single_process(agent, env, n_episodes, n_s, n_p):\n",
    "    out = []\n",
    "    for i in range(n_s//n_p):\n",
    "        out.append(view_train_agent(agent, env, n_episodes, plot=False))\n",
    "    return out\n",
    "\n",
    "def parallel_multiple_train_agent(agent, env, n_episodes, n_s, out_reward=False):\n",
    "    init = time.time()\n",
    "    n_p = 5\n",
    "    with Pool(n_p) as p:\n",
    "        outs = p.starmap(single_process, [[agent, env, n_episodes, n_s, n_p]]*n_p)\n",
    "    outs = np.concatenate(outs, 0)\n",
    "    end = time.time()\n",
    "    print(\"Done in {}s\".format(end-init))\n",
    "    return np.mean(outs, 0)"
   ]
  },
  {
   "cell_type": "code",
   "execution_count": 102,
   "metadata": {},
   "outputs": [],
   "source": [
    "def make_plot(l, suptitle, title, xlabel, ylabel,\n",
    "              labels=None, interval_yaxis=None, colors=None, alphas=None):\n",
    "    \"\"\" Simply saves a plot with multiple usual arguments.\"\"\"\n",
    "    n = len(labels)\n",
    "    if colors is None:\n",
    "        colors = [None]*n\n",
    "    if alphas is None:\n",
    "        alphas = [None]*n\n",
    "    for perf, label, color, alpha in zip(l, labels, colors, alphas):\n",
    "        plt.plot(perf, label=label, color=color, alpha=alpha)\n",
    "    plt.legend()\n",
    "\n",
    "    plt.suptitle(suptitle, fontsize=14, fontweight='bold')\n",
    "    plt.title(title)\n",
    "    plt.xlabel(xlabel)\n",
    "    plt.ylabel(ylabel)\n",
    "\n",
    "    if interval_yaxis is not None:\n",
    "        new_y1, new_y2 = interval_yaxis\n",
    "        x1,x2,y1,y2 = plt.axis()\n",
    "        plt.axis((x1,x2,new_y1,new_y2))\n",
    "\n",
    "    plt.plot()"
   ]
  },
  {
   "cell_type": "markdown",
   "metadata": {},
   "source": [
    "Now testing all agents! The runs should take less than a minute."
   ]
  },
  {
   "cell_type": "code",
   "execution_count": 103,
   "metadata": {},
   "outputs": [],
   "source": [
    "n_episodes = 1000\n",
    "n_s = 100\n",
    "d['epsilon'] = 0.1"
   ]
  },
  {
   "cell_type": "code",
   "execution_count": null,
   "metadata": {},
   "outputs": [],
   "source": [
    "# Monte Carlo:\n",
    "agent = EGMonteCarlo(**d)\n",
    "perf_mc = parallel_multiple_train_agent(agent, env, n_episodes, n_s)"
   ]
  },
  {
   "cell_type": "code",
   "execution_count": null,
   "metadata": {},
   "outputs": [],
   "source": [
    "# SARSA:\n",
    "agent = SARSA(**d)\n",
    "perf_sarsa = parallel_multiple_train_agent(agent, env, n_episodes, n_s)"
   ]
  },
  {
   "cell_type": "code",
   "execution_count": null,
   "metadata": {},
   "outputs": [],
   "source": [
    "# QLearning:\n",
    "agent = QLearning(**d)\n",
    "perf_ql = parallel_multiple_train_agent(agent, env, n_episodes, n_s)"
   ]
  },
  {
   "cell_type": "code",
   "execution_count": null,
   "metadata": {},
   "outputs": [],
   "source": [
    "# DoubleQLearning:\n",
    "agent = DoubleQLearning(**d)\n",
    "perf_dql = parallel_multiple_train_agent(agent, env, n_episodes, n_s)"
   ]
  },
  {
   "cell_type": "code",
   "execution_count": null,
   "metadata": {},
   "outputs": [],
   "source": [
    "make_plot([perf_mc, perf_sarsa, perf_ql, perf_dql], \n",
    "          suptitle=\"Agents on Windy FourRooms Environment\", title=None,\n",
    "          xlabel=\"Episode\", ylabel=\"Steps to the goal\", \n",
    "          labels=['MC', 'SARSA', 'QL', \"DoubleQL\"], interval_yaxis=(20,80),\n",
    "          alphas=[0.7]*4)"
   ]
  },
  {
   "cell_type": "markdown",
   "metadata": {},
   "source": [
    "<span style=\"color:red\"> **TODO** </span>: **Interpret** briefly your results; try to explain the main differences you observe.\n",
    "\n",
    "(your answer here)"
   ]
  },
  {
   "cell_type": "markdown",
   "metadata": {},
   "source": [
    "## 5. <span style=\"color:green\"> (2 point) </span>  <span style=\"color:blue\"> **TODO** </span> Playground\n",
    "Because QLearning learns the optimal value function and tends to learn an optimal policy faster than SARSA, it is most used in research. In this section, play around with the hyperparameters and design choices of QLearning. \n",
    "\n",
    "<span style=\"color:red\"> **TODO** </span> For each hyperparameter or setting you play with, create a new subsection using `###` in markdown. Present your results in plots similar to the one above, comparing values and choices. Each curve should be averaged over $n_s=100$ seeds, to make for reliable graphs. Explain your experiments and analyze your results for each section. If you're testing an interesting value or new hyperparameter, try to also visualize what it changes using the `view_train_agent` function. "
   ]
  }
 ],
 "metadata": {
  "kernelspec": {
   "display_name": "Python 3",
   "language": "python",
   "name": "python3"
  },
  "language_info": {
   "codemirror_mode": {
    "name": "ipython",
    "version": 3
   },
   "file_extension": ".py",
   "mimetype": "text/x-python",
   "name": "python",
   "nbconvert_exporter": "python",
   "pygments_lexer": "ipython3",
   "version": "3.6.15"
  }
 },
 "nbformat": 4,
 "nbformat_minor": 2
}
