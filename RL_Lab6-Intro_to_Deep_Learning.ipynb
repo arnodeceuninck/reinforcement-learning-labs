{
 "cells": [
  {
   "cell_type": "markdown",
   "metadata": {},
   "source": [
    "# Lab 6: Introduction to Deep Learning\n",
    "\n",
    "This is an important lab session which aims to develop intuition for Deep Reinforcement Learning(DRL). \n",
    "For those familiar with Deep Learning(DL), you'll get to brush up some concepts. For those unfamiliar with this lab session it will be crash course of DL.\n",
    "\n",
    "We'll use PyTorch, a popular tool for upcoming DRL lab sessions. \n",
    "Please go through jupyter notebooks in order Lab_session6_1 then Lab_session6_2 before reading further instructions.\n",
    "\n",
    "Open your Virtualenvironment and install requirements.txt by running\n",
    "`pip install -r requirements.txt --user`\n",
    "\n",
    "After going through the Notebooks and getting a hang of the way PyTorch works, we will ask you to play around with the hyperparameters to fine-tune and techniques you can use to greatly improve your network's performance, and get a better intuition for the how and why it works."
   ]
  },
  {
   "cell_type": "markdown",
   "metadata": {},
   "source": [
    "## 0. Loading the Data: the classic MNIST dataset\n",
    "The dataset we will use is MNIST, consisting of 60k hand-written digits; the goal is to tell which number is on the image, or in other words to \"read\" hand-written digits. There are 10k testing samples in addition to the 60k training samples.\n",
    "\n",
    "We will be using [this tuto](https://medium.com/@nutanbhogendrasharma/pytorch-convolutional-neural-network-with-mnist-dataset-4e8a4265e118) as a guide for most of the prep work."
   ]
  },
  {
   "cell_type": "code",
   "execution_count": 1,
   "metadata": {},
   "outputs": [
    {
     "name": "stdout",
     "output_type": "stream",
     "text": [
      "Downloading http://yann.lecun.com/exdb/mnist/train-images-idx3-ubyte.gz\n",
      "Downloading http://yann.lecun.com/exdb/mnist/train-images-idx3-ubyte.gz to data\\MNIST\\raw\\train-images-idx3-ubyte.gz\n"
     ]
    },
    {
     "data": {
      "application/vnd.jupyter.widget-view+json": {
       "model_id": "096ce7c4af67445eadd62dcf89472efb",
       "version_major": 2,
       "version_minor": 0
      },
      "text/plain": [
       "  0%|          | 0/9912422 [00:00<?, ?it/s]"
      ]
     },
     "metadata": {},
     "output_type": "display_data"
    },
    {
     "name": "stdout",
     "output_type": "stream",
     "text": [
      "Extracting data\\MNIST\\raw\\train-images-idx3-ubyte.gz to data\\MNIST\\raw\n",
      "\n",
      "Downloading http://yann.lecun.com/exdb/mnist/train-labels-idx1-ubyte.gz\n",
      "Downloading http://yann.lecun.com/exdb/mnist/train-labels-idx1-ubyte.gz to data\\MNIST\\raw\\train-labels-idx1-ubyte.gz\n"
     ]
    },
    {
     "data": {
      "application/vnd.jupyter.widget-view+json": {
       "model_id": "eb49fd0033e34127a9f5bb4db5da4702",
       "version_major": 2,
       "version_minor": 0
      },
      "text/plain": [
       "  0%|          | 0/28881 [00:00<?, ?it/s]"
      ]
     },
     "metadata": {},
     "output_type": "display_data"
    },
    {
     "name": "stdout",
     "output_type": "stream",
     "text": [
      "Extracting data\\MNIST\\raw\\train-labels-idx1-ubyte.gz to data\\MNIST\\raw\n",
      "\n",
      "Downloading http://yann.lecun.com/exdb/mnist/t10k-images-idx3-ubyte.gz\n",
      "Downloading http://yann.lecun.com/exdb/mnist/t10k-images-idx3-ubyte.gz to data\\MNIST\\raw\\t10k-images-idx3-ubyte.gz\n"
     ]
    },
    {
     "data": {
      "application/vnd.jupyter.widget-view+json": {
       "model_id": "427523f0bc224a2aac9af388c573f3f4",
       "version_major": 2,
       "version_minor": 0
      },
      "text/plain": [
       "  0%|          | 0/1648877 [00:00<?, ?it/s]"
      ]
     },
     "metadata": {},
     "output_type": "display_data"
    },
    {
     "name": "stdout",
     "output_type": "stream",
     "text": [
      "Extracting data\\MNIST\\raw\\t10k-images-idx3-ubyte.gz to data\\MNIST\\raw\n",
      "\n",
      "Downloading http://yann.lecun.com/exdb/mnist/t10k-labels-idx1-ubyte.gz\n",
      "Downloading http://yann.lecun.com/exdb/mnist/t10k-labels-idx1-ubyte.gz to data\\MNIST\\raw\\t10k-labels-idx1-ubyte.gz\n"
     ]
    },
    {
     "data": {
      "application/vnd.jupyter.widget-view+json": {
       "model_id": "7614953bee944449ae906b1dc899946b",
       "version_major": 2,
       "version_minor": 0
      },
      "text/plain": [
       "  0%|          | 0/4542 [00:00<?, ?it/s]"
      ]
     },
     "metadata": {},
     "output_type": "display_data"
    },
    {
     "name": "stdout",
     "output_type": "stream",
     "text": [
      "Extracting data\\MNIST\\raw\\t10k-labels-idx1-ubyte.gz to data\\MNIST\\raw\n",
      "\n"
     ]
    }
   ],
   "source": [
    "import torch\n",
    "import matplotlib\n",
    "from torchvision import datasets\n",
    "from torchvision.transforms import ToTensor\n",
    "train_data = datasets.MNIST(\n",
    "    root = 'data',\n",
    "    train = True,                         \n",
    "    transform = ToTensor(), \n",
    "    download = True,            \n",
    ")\n",
    "test_data = datasets.MNIST(\n",
    "    root = 'data', \n",
    "    train = False, \n",
    "    transform = ToTensor()\n",
    ")"
   ]
  },
  {
   "cell_type": "markdown",
   "metadata": {},
   "source": [
    "Let's see how these look:"
   ]
  },
  {
   "cell_type": "code",
   "execution_count": 3,
   "metadata": {},
   "outputs": [
    {
     "data": {
      "image/png": "[encoded data removed]",
      "text/plain": [
       "<Figure size 432x288 with 1 Axes>"
      ]
     },
     "metadata": {
      "needs_background": "light"
     },
     "output_type": "display_data"
    }
   ],
   "source": [
    "import matplotlib.pyplot as plt\n",
    "plt.imshow(train_data.data[0], cmap='gray')\n",
    "plt.title('%i' % train_data.targets[0])\n",
    "plt.show()"
   ]
  },
  {
   "cell_type": "markdown",
   "metadata": {},
   "source": [
    "We will want to sample from the test or train set during training and testing. In order to do this automatically, we use DataLoaders:"
   ]
  },
  {
   "cell_type": "code",
   "execution_count": 5,
   "metadata": {},
   "outputs": [
    {
     "data": {
      "text/plain": [
       "{'train': <torch.utils.data.dataloader.DataLoader at 0x1e0a6644438>,\n",
       " 'test': <torch.utils.data.dataloader.DataLoader at 0x1e0a6644d30>}"
      ]
     },
     "execution_count": 5,
     "metadata": {},
     "output_type": "execute_result"
    }
   ],
   "source": [
    "from torch.utils.data import DataLoader\n",
    "loaders = {\n",
    "    'train' : torch.utils.data.DataLoader(train_data, \n",
    "                                          batch_size=100,\n",
    "                                          shuffle=True, \n",
    "                                          num_workers=1),\n",
    "    \n",
    "    'test'  : torch.utils.data.DataLoader(test_data, \n",
    "                                          batch_size=100, \n",
    "                                          shuffle=True, \n",
    "                                          num_workers=1),\n",
    "}\n",
    "loaders"
   ]
  },
  {
   "cell_type": "markdown",
   "metadata": {},
   "source": [
    "----------"
   ]
  },
  {
   "cell_type": "markdown",
   "metadata": {},
   "source": [
    "## 1. The Multi Layer Perceptron(MLP)\n",
    "\n",
    "A multilayer perceptron (MLP) is a class of feed forward artificial neural network (ANN). Multilayer perceptrons are sometimes colloquially referred to as \"vanilla\" neural networks, especially when they have a single hidden layer.\n",
    "\n",
    "<!-- ![image.png](attachment:image.png)\n",
    " -->\n",
    "<img src=https://scikit-learn.org/stable/_images/multilayerperceptron_network.png alt=\"drawing\" width=\"400\"/>\n",
    "\n",
    "[Image source](https://scikit-learn.org/stable/modules/neural_networks_supervised.html)\n",
    "\n",
    "The above image shows one hidden layer MLP with scaler output \n",
    "\n",
    "\n",
    "Most of the following can be visualized beforehand on a toy problem using the [Tensorflow Playground](https://playground.tensorflow.org/#activation=sigmoid&batchSize=10&dataset=circle&regDataset=reg-plane&learningRate=0.03&regularizationRate=0&noise=0&networkShape=2&seed=0.35230&showTestData=false&discretize=false&percTrainData=50&x=true&y=true&xTimesY=false&xSquared=false&ySquared=false&cosX=false&sinX=false&cosY=false&sinY=false&collectStats=false&problem=classification&initZero=false&hideText=false).\n",
    "\n",
    "On this playground, you can change the inputs, depth and width of the network, learning rate, task and noise, activation function, regularizer, batch size. We very strongly recommend you give it some time to play around, as it is excellent to build an intuition and understand the impact of all the choices the NN designer makes."
   ]
  },
  {
   "cell_type": "code",
   "execution_count": 6,
   "metadata": {},
   "outputs": [],
   "source": [
    "import pandas as pd\n",
    "from sklearn import preprocessing\n",
    "from sklearn.model_selection import train_test_split\n",
    "from sklearn.metrics import accuracy_score, precision_score, recall_score\n",
    "\n",
    "import numpy as np\n",
    "import torch.nn as nn\n",
    "import torch.nn.functional as F\n",
    "from torch.autograd import Variable"
   ]
  },
  {
   "cell_type": "markdown",
   "metadata": {},
   "source": [
    "### Network architecture\n",
    "Three main choices can be made about an MLP's architecture:\n",
    "* *depth*: number of hidden layers\n",
    "* *width*: number of neurons in each layer\n",
    "* *non-linearity*: activation functions\n",
    "\n",
    "First, playing around with the depth of the network - the depth is defined by the number of functions you add in the init method of the Net class.\n",
    "\n",
    "**Note that** for 0 hidden layers, we have a regular linear model. \n",
    "\n",
    "Using only one hidden layer, but with sufficient width, ensures that the network is a Universal Approximator (can approximate any function). \n",
    "\n",
    "The activation functions can have a very important impact on the network. It is common practice to choose the same for all layers, except the output layer, which controls the nature of the overall function (net). First, visualize, using TF Playground, the difference in hypothesis (function shape) when changing function. The sigmoid function is historically important, but has near 0 gradient for high absolute values, which makes the gradient vanish. Try to compare performance in MNIST between sigmoid and more recent activation functions like ReLU or tanh."
   ]
  },
  {
   "cell_type": "code",
   "execution_count": 7,
   "metadata": {},
   "outputs": [],
   "source": [
    "IN_DIM = 28*28\n",
    "OUT_DIM = 10"
   ]
  },
  {
   "cell_type": "code",
   "execution_count": 8,
   "metadata": {},
   "outputs": [],
   "source": [
    "class Net(nn.Module):\n",
    "    # define nn\n",
    "    def __init__(self):\n",
    "        super(Net, self).__init__()\n",
    "        self.fc1 = nn.Linear(IN_DIM, 100) # Wx + b\n",
    "        self.fc2 = nn.Linear(100, 100)\n",
    "        self.fc3 = nn.Linear(100, OUT_DIM)\n",
    "\n",
    "    def forward(self, X):\n",
    "        X = X.squeeze(1)\n",
    "        X = X.flatten(-2,-1)\n",
    "\n",
    "        X = F.relu(self.fc1(X))\n",
    "        X = F.relu(self.fc2(X))\n",
    "        X = F.log_softmax(self.fc3(X), dim=-1)\n",
    "\n",
    "        return X"
   ]
  },
  {
   "cell_type": "code",
   "execution_count": 9,
   "metadata": {},
   "outputs": [],
   "source": [
    "net = Net()"
   ]
  },
  {
   "cell_type": "markdown",
   "metadata": {},
   "source": [
    "### Learning Rate and Optimizer\n",
    "The learning rate of the gradient descent is a very common and crucial hyperparameter is a lot of ML applications, including Deep Learning.\n",
    "Try tweaking it - you should observe that high values lead to unstable learning, but low values lead to slow learning.\n",
    "\n",
    "Using simply the SGD update w -= alpha*grad_w(J) is often very naive, and prone to stochasticity. Lately, a lot of methods have appeared to try and add momentum, vary the learning rate depending on the specific parameter, etc. In PyTorch, the optimizer is selected using\n",
    "`optimizer = torch.optim.SGD(net.parameters(), lr=0.01)`\n",
    "\n",
    "### Loss and Regularization\n",
    "The most common loss to optimize is simply the Means Squared Error, (h(x) - y)² - trying to minimize the distance between your prediction and the ground truth. However, other measures can be used. After documenting yourself, try comparing MSE with the Cross Entropy Loss in PyTorch on the MNIST problem.\n",
    "\n",
    "A very common cause for overfitting is that the network weights explode - if you try to fit 10 2D points with a 10 degree polynomial, you will often find very high weight values that lead to severe overfitting, rather than truly trying to find the trend.\n",
    "In order to prevent weight explosion, *L2 Regularization* add a soft constraint to the loss under the form of a lambda*||w||\\_2 term (L1 Reg uses norm 1). This way, the optimizer tries to solve the task using weights as small as possible. Conveniently in PyTorch, as you can see in the doc, the Regularization (\"weight decay\") is an optional argument to the optimizer!"
   ]
  },
  {
   "cell_type": "code",
   "execution_count": 10,
   "metadata": {},
   "outputs": [],
   "source": [
    "criterion = nn.CrossEntropyLoss()# cross entropy loss\n",
    "optimizer = torch.optim.SGD(net.parameters(), lr=0.01)"
   ]
  },
  {
   "cell_type": "code",
   "execution_count": 11,
   "metadata": {},
   "outputs": [],
   "source": [
    "# for convenience\n",
    "def reset(net_class, criterion_class, optim_class, lr):\n",
    "    net = net_class()\n",
    "    criterion = criterion_class() # cross entropy loss\n",
    "    optimizer = optim_class(net.parameters(), lr=lr)\n",
    "    return net, criterion, optimizer"
   ]
  },
  {
   "cell_type": "markdown",
   "metadata": {},
   "source": [
    "Try to observe that, for a very wide layer, the network overfits to the testing data (...leading to a suspicious wine quality accuracy). The width can be controlled by changing how many inputs and outputs each intermediate function (i.e. hidden layer) takes in and gives out."
   ]
  },
  {
   "cell_type": "markdown",
   "metadata": {},
   "source": [
    "### Batch size\n",
    "The reason the optimizer is called Stochastic Gradient Descent, as opposed to usual Gradient Descent, is because we only use subsets (batches) of the training data instead of the whole thing at once, acting like a sample in a stochastic computation. This was found to lead to great gains in wall-clock performance, since we don't have to loop over the whole dataset, which might be millions of entries big. In particular, this has lead to huge gains in efficiency thanks to GPUs, massively excelling in parallelized computing but with limited RAM that cannot hold the whole dataset at once.\n",
    "\n",
    "### (Dropout)\n",
    "The neurons of a neural network are extremely heavily dependent on the values of the previous neurons - each of the inputs can have a drastic impact on the output. This is often a major culprit for overfitting, where the neurons cannot generalize properly because the new testing distribution looks very different from the training distribution.\n",
    "In order to prevent these heavy dependencies, one of the core techniques of Deep Learning was invented: Dropout. This simply means that in training, each neuron has some probability to be turned off altogether! This means that the downstream neurons need to be flexible enough to adapt to all kinds of changes in input; no rely too heavily on a single input, but rather find valuable information in all of it.\n",
    "Dropout can conveniently be seen as an [https://pytorch.org/docs/stable/nn.html#dropout-layers](additional layer), that you can add after any layer (except the output), with a constant giving the probability to turn the neuron off.\n"
   ]
  },
  {
   "cell_type": "code",
   "execution_count": 12,
   "metadata": {},
   "outputs": [],
   "source": [
    "def plot(steps, test_steps, losses, test_losses, accuracies):\n",
    "    fig, (ax1, ax2) = plt.subplots(1, 2)\n",
    "    ax1.plot(steps, losses, label=\"train loss\")\n",
    "    ax1.plot(test_steps, test_losses, label=\"test loss\")\n",
    "    ax1.set_title(\"Losses\")\n",
    "    ax1.legend()\n",
    "    ax1.set_ylim(0,None)\n",
    "    ax2.plot(test_steps, accuracies)\n",
    "    ax2.set_title(\"Accuracy\")\n",
    "    ax2.set_ylim(0,1)\n",
    "    plt.show()"
   ]
  },
  {
   "cell_type": "code",
   "execution_count": 13,
   "metadata": {},
   "outputs": [],
   "source": [
    "from torch.autograd import Variable \n",
    "num_epochs = 10\n",
    "def train(num_epochs, loaders, net, optimizer, criterion):\n",
    "    # Visualization stuff\n",
    "    losses = []\n",
    "    test_losses = []\n",
    "    accuracies = []\n",
    "    step = 0\n",
    "    steps = []\n",
    "    test_steps = []\n",
    "    \n",
    "    # Learning stuff\n",
    "    total_step = len(loaders['train'])\n",
    "    # Set the net to training mode:\n",
    "    net.train()\n",
    "    # Learning loop:\n",
    "    for epoch in range(num_epochs):\n",
    "        for i, (images, labels) in enumerate(loaders['train']): # extracts batches of data using loaders\n",
    "            b_x = Variable(images)\n",
    "            b_y = Variable(labels)\n",
    "            output = net(b_x)\n",
    "            # Compute loss; compute gradient (backprop); apply SGD\n",
    "            loss = criterion(output, b_y)\n",
    "            optimizer.zero_grad()\n",
    "            loss.backward()\n",
    "            optimizer.step()\n",
    "            step += 1\n",
    "            \n",
    "            if (i+1) % 200 == 0:\n",
    "                print ('Epoch [{}/{}], Step [{}/{}], Loss: {:.4f}' \n",
    "                       .format(epoch + 1, num_epochs, i + 1, total_step, loss.item()))\n",
    "                        # testing\n",
    "                test_loss, acc = test(net, criterion)\n",
    "                test_losses.append(test_loss)\n",
    "                accuracies.append(acc)\n",
    "                test_steps.append(step)\n",
    "                \n",
    "            losses.append(loss.item())\n",
    "            steps.append(step)\n",
    "        \n",
    "    return steps, test_steps, losses, test_losses, accuracies \n",
    "        \n",
    "def test(net, criterion):\n",
    "    # Test the model\n",
    "    net.eval()    \n",
    "    with torch.no_grad():\n",
    "        correct = 0\n",
    "        total = 0\n",
    "        for images, labels in loaders['test']:\n",
    "            test_output = net(images)\n",
    "            test_loss = criterion(test_output, labels)\n",
    "            pred_y = torch.max(test_output, 1)[1].data.squeeze()\n",
    "            accuracy = (pred_y == labels).sum().item() / float(labels.size(0))\n",
    "    print('\\tTest Accuracy of the model on the 10000 test images: %.2f' % accuracy)\n",
    "    \n",
    "    return test_loss, accuracy"
   ]
  },
  {
   "cell_type": "code",
   "execution_count": null,
   "metadata": {},
   "outputs": [
    {
     "name": "stdout",
     "output_type": "stream",
     "text": [
      "Epoch [1/10], Step [200/600], Loss: 2.2679\n",
      "\tTest Accuracy of the model on the 10000 test images: 0.21\n",
      "Epoch [1/10], Step [400/600], Loss: 2.2323\n",
      "\tTest Accuracy of the model on the 10000 test images: 0.44\n",
      "Epoch [1/10], Step [600/600], Loss: 2.1538\n",
      "\tTest Accuracy of the model on the 10000 test images: 0.45\n",
      "Epoch [2/10], Step [200/600], Loss: 2.0591\n",
      "\tTest Accuracy of the model on the 10000 test images: 0.55\n",
      "Epoch [2/10], Step [400/600], Loss: 1.8230\n",
      "\tTest Accuracy of the model on the 10000 test images: 0.59\n",
      "Epoch [2/10], Step [600/600], Loss: 1.6011\n",
      "\tTest Accuracy of the model on the 10000 test images: 0.72\n",
      "Epoch [3/10], Step [200/600], Loss: 1.2293\n"
     ]
    }
   ],
   "source": [
    "net, criterion, optimizer = reset(Net, nn.CrossEntropyLoss, torch.optim.SGD, lr=0.005)\n",
    "results = train(10, loaders, net, optimizer, criterion)"
   ]
  },
  {
   "cell_type": "code",
   "execution_count": 24,
   "metadata": {},
   "outputs": [
    {
     "data": {
      "image/png": "[encoded data removed]",
      "text/plain": [
       "<Figure size 432x288 with 2 Axes>"
      ]
     },
     "metadata": {
      "needs_background": "light"
     },
     "output_type": "display_data"
    }
   ],
   "source": [
    "steps, test_steps, losses, test_losses, accuracies = results\n",
    "plot(steps, test_steps, losses, test_losses, accuracies)"
   ]
  },
  {
   "cell_type": "markdown",
   "metadata": {},
   "source": [
    "### Changing the optimizer: Adam\n",
    "The neural does learn! The loss is getting more and more noisy, indicating that the network could benefit from a lower learning rate. However, you can try yourself that a lower learning rate makes training much longer, as the network struggles to find a sweet spot in the parameter space. Coming up with a schedule to decrease the value of the learning rate would be even more laborious than finding a single good learning rate value!\n",
    "\n",
    "Instead, we want to change the optimizer itself. SGD is very naive; Adam is a much smarter optimizer that adapts the learning rate per-parameter, and uses momentum to move more smoothly in the parameter space. Let's see how it performs! We can afford to use a much lower learning rate, as Adam will make bigger first steps and later fine-tune.\n",
    "\n"
   ]
  },
  {
   "cell_type": "code",
   "execution_count": 25,
   "metadata": {},
   "outputs": [
    {
     "name": "stdout",
     "output_type": "stream",
     "text": [
      "Epoch [1/10], Step [200/600], Loss: 0.3558\n",
      "\tTest Accuracy of the model on the 10000 test images: 0.94\n",
      "Epoch [1/10], Step [400/600], Loss: 0.1668\n",
      "\tTest Accuracy of the model on the 10000 test images: 0.88\n",
      "Epoch [1/10], Step [600/600], Loss: 0.2294\n",
      "\tTest Accuracy of the model on the 10000 test images: 0.94\n",
      "Epoch [2/10], Step [200/600], Loss: 0.1588\n",
      "\tTest Accuracy of the model on the 10000 test images: 0.95\n",
      "Epoch [2/10], Step [400/600], Loss: 0.2928\n",
      "\tTest Accuracy of the model on the 10000 test images: 0.96\n",
      "Epoch [2/10], Step [600/600], Loss: 0.1840\n",
      "\tTest Accuracy of the model on the 10000 test images: 0.88\n",
      "Epoch [3/10], Step [200/600], Loss: 0.1958\n",
      "\tTest Accuracy of the model on the 10000 test images: 0.96\n",
      "Epoch [3/10], Step [400/600], Loss: 0.2977\n",
      "\tTest Accuracy of the model on the 10000 test images: 0.92\n",
      "Epoch [3/10], Step [600/600], Loss: 0.1677\n",
      "\tTest Accuracy of the model on the 10000 test images: 0.94\n",
      "Epoch [4/10], Step [200/600], Loss: 0.0528\n",
      "\tTest Accuracy of the model on the 10000 test images: 0.90\n",
      "Epoch [4/10], Step [400/600], Loss: 0.0741\n",
      "\tTest Accuracy of the model on the 10000 test images: 0.98\n",
      "Epoch [4/10], Step [600/600], Loss: 0.0573\n",
      "\tTest Accuracy of the model on the 10000 test images: 0.97\n",
      "Epoch [5/10], Step [200/600], Loss: 0.1550\n",
      "\tTest Accuracy of the model on the 10000 test images: 0.98\n",
      "Epoch [5/10], Step [400/600], Loss: 0.0504\n",
      "\tTest Accuracy of the model on the 10000 test images: 0.97\n",
      "Epoch [5/10], Step [600/600], Loss: 0.2441\n",
      "\tTest Accuracy of the model on the 10000 test images: 0.98\n",
      "Epoch [6/10], Step [200/600], Loss: 0.1466\n",
      "\tTest Accuracy of the model on the 10000 test images: 0.97\n",
      "Epoch [6/10], Step [400/600], Loss: 0.0365\n",
      "\tTest Accuracy of the model on the 10000 test images: 0.98\n",
      "Epoch [6/10], Step [600/600], Loss: 0.0655\n",
      "\tTest Accuracy of the model on the 10000 test images: 0.99\n",
      "Epoch [7/10], Step [200/600], Loss: 0.0273\n",
      "\tTest Accuracy of the model on the 10000 test images: 0.99\n",
      "Epoch [7/10], Step [400/600], Loss: 0.1410\n",
      "\tTest Accuracy of the model on the 10000 test images: 0.97\n",
      "Epoch [7/10], Step [600/600], Loss: 0.1418\n",
      "\tTest Accuracy of the model on the 10000 test images: 0.99\n",
      "Epoch [8/10], Step [200/600], Loss: 0.0594\n",
      "\tTest Accuracy of the model on the 10000 test images: 0.98\n",
      "Epoch [8/10], Step [400/600], Loss: 0.1276\n",
      "\tTest Accuracy of the model on the 10000 test images: 0.99\n",
      "Epoch [8/10], Step [600/600], Loss: 0.0247\n",
      "\tTest Accuracy of the model on the 10000 test images: 0.99\n",
      "Epoch [9/10], Step [200/600], Loss: 0.1324\n",
      "\tTest Accuracy of the model on the 10000 test images: 0.97\n",
      "Epoch [9/10], Step [400/600], Loss: 0.0748\n",
      "\tTest Accuracy of the model on the 10000 test images: 1.00\n",
      "Epoch [9/10], Step [600/600], Loss: 0.0557\n",
      "\tTest Accuracy of the model on the 10000 test images: 0.95\n",
      "Epoch [10/10], Step [200/600], Loss: 0.1273\n",
      "\tTest Accuracy of the model on the 10000 test images: 0.98\n",
      "Epoch [10/10], Step [400/600], Loss: 0.0881\n",
      "\tTest Accuracy of the model on the 10000 test images: 0.98\n",
      "Epoch [10/10], Step [600/600], Loss: 0.0236\n",
      "\tTest Accuracy of the model on the 10000 test images: 1.00\n"
     ]
    }
   ],
   "source": [
    "net, criterion, optimizer = reset(Net, nn.CrossEntropyLoss, torch.optim.Adam, lr=0.0005)\n",
    "results_adam = train(10, loaders, net, optimizer, criterion)"
   ]
  },
  {
   "cell_type": "code",
   "execution_count": 26,
   "metadata": {},
   "outputs": [
    {
     "data": {
      "image/png": "[encoded data removed]",
      "text/plain": [
       "<Figure size 432x288 with 2 Axes>"
      ]
     },
     "metadata": {
      "needs_background": "light"
     },
     "output_type": "display_data"
    }
   ],
   "source": [
    "steps, test_steps, losses, test_losses, accuracies = results_adam\n",
    "plot(steps, test_steps, losses, test_losses, accuracies)"
   ]
  },
  {
   "cell_type": "markdown",
   "metadata": {},
   "source": [
    "## 2. Convolutional Neural Network\n",
    "Abbraviated CNNs, Convolutional Neural Nets are Artifical Neural Networks with image-specific Convolution layers that are designed to handle visual inputs. In a way, they are less general, "
   ]
  },
  {
   "cell_type": "code",
   "execution_count": 28,
   "metadata": {},
   "outputs": [],
   "source": [
    "from __future__ import print_function\n",
    "import matplotlib.pyplot as plt\n",
    "import numpy as np\n",
    "import torch\n",
    "import torch.nn as nn\n",
    "import torch.nn.functional as F\n",
    "import torch.optim as optim\n",
    "from torchvision import datasets, transforms\n",
    "from torch.optim.lr_scheduler import StepLR\n",
    "\n",
    "\n",
    "class CNNet(nn.Module):\n",
    "    def __init__(self):\n",
    "        super(CNNet, self).__init__()\n",
    "        self.conv1 = nn.Conv2d(1, 16, 5, 3)\n",
    "        self.conv2 = nn.Conv2d(16, 32, 3, 1)\n",
    "        self.fc1 = nn.Linear(1152, OUT_DIM)\n",
    "\n",
    "    def forward(self, x):\n",
    "        x = F.relu(self.conv1(x))\n",
    "        x = F.relu(self.conv2(x))\n",
    "        x = torch.flatten(x, 1) # flatten\n",
    "        x = self.fc1(x) # fully connected\n",
    "        output = F.log_softmax(x, dim=1)  \n",
    "        return output"
   ]
  },
  {
   "cell_type": "code",
   "execution_count": 29,
   "metadata": {},
   "outputs": [
    {
     "name": "stdout",
     "output_type": "stream",
     "text": [
      "Epoch [1/10], Step [200/600], Loss: 0.1982\n",
      "\tTest Accuracy of the model on the 10000 test images: 0.94\n",
      "Epoch [1/10], Step [400/600], Loss: 0.2496\n",
      "\tTest Accuracy of the model on the 10000 test images: 0.96\n",
      "Epoch [1/10], Step [600/600], Loss: 0.2273\n",
      "\tTest Accuracy of the model on the 10000 test images: 0.96\n",
      "Epoch [2/10], Step [200/600], Loss: 0.1737\n",
      "\tTest Accuracy of the model on the 10000 test images: 0.98\n",
      "Epoch [2/10], Step [400/600], Loss: 0.2020\n",
      "\tTest Accuracy of the model on the 10000 test images: 1.00\n",
      "Epoch [2/10], Step [600/600], Loss: 0.1223\n",
      "\tTest Accuracy of the model on the 10000 test images: 0.96\n",
      "Epoch [3/10], Step [200/600], Loss: 0.1139\n",
      "\tTest Accuracy of the model on the 10000 test images: 0.97\n",
      "Epoch [3/10], Step [400/600], Loss: 0.0812\n",
      "\tTest Accuracy of the model on the 10000 test images: 0.97\n",
      "Epoch [3/10], Step [600/600], Loss: 0.0858\n",
      "\tTest Accuracy of the model on the 10000 test images: 0.99\n",
      "Epoch [4/10], Step [200/600], Loss: 0.0666\n",
      "\tTest Accuracy of the model on the 10000 test images: 0.97\n",
      "Epoch [4/10], Step [400/600], Loss: 0.0495\n",
      "\tTest Accuracy of the model on the 10000 test images: 0.99\n",
      "Epoch [4/10], Step [600/600], Loss: 0.0609\n",
      "\tTest Accuracy of the model on the 10000 test images: 1.00\n",
      "Epoch [5/10], Step [200/600], Loss: 0.0722\n",
      "\tTest Accuracy of the model on the 10000 test images: 0.95\n",
      "Epoch [5/10], Step [400/600], Loss: 0.0736\n",
      "\tTest Accuracy of the model on the 10000 test images: 0.98\n",
      "Epoch [5/10], Step [600/600], Loss: 0.0147\n",
      "\tTest Accuracy of the model on the 10000 test images: 0.98\n",
      "Epoch [6/10], Step [200/600], Loss: 0.0166\n",
      "\tTest Accuracy of the model on the 10000 test images: 0.99\n",
      "Epoch [6/10], Step [400/600], Loss: 0.0381\n",
      "\tTest Accuracy of the model on the 10000 test images: 0.98\n",
      "Epoch [6/10], Step [600/600], Loss: 0.0870\n",
      "\tTest Accuracy of the model on the 10000 test images: 1.00\n",
      "Epoch [7/10], Step [200/600], Loss: 0.0357\n",
      "\tTest Accuracy of the model on the 10000 test images: 0.96\n",
      "Epoch [7/10], Step [400/600], Loss: 0.0196\n",
      "\tTest Accuracy of the model on the 10000 test images: 0.95\n",
      "Epoch [7/10], Step [600/600], Loss: 0.0207\n",
      "\tTest Accuracy of the model on the 10000 test images: 1.00\n",
      "Epoch [8/10], Step [200/600], Loss: 0.0274\n",
      "\tTest Accuracy of the model on the 10000 test images: 0.98\n",
      "Epoch [8/10], Step [400/600], Loss: 0.0248\n",
      "\tTest Accuracy of the model on the 10000 test images: 1.00\n",
      "Epoch [8/10], Step [600/600], Loss: 0.0653\n",
      "\tTest Accuracy of the model on the 10000 test images: 1.00\n",
      "Epoch [9/10], Step [200/600], Loss: 0.0815\n",
      "\tTest Accuracy of the model on the 10000 test images: 1.00\n",
      "Epoch [9/10], Step [400/600], Loss: 0.0132\n",
      "\tTest Accuracy of the model on the 10000 test images: 0.96\n",
      "Epoch [9/10], Step [600/600], Loss: 0.0225\n",
      "\tTest Accuracy of the model on the 10000 test images: 0.98\n",
      "Epoch [10/10], Step [200/600], Loss: 0.0048\n",
      "\tTest Accuracy of the model on the 10000 test images: 1.00\n",
      "Epoch [10/10], Step [400/600], Loss: 0.0339\n",
      "\tTest Accuracy of the model on the 10000 test images: 1.00\n",
      "Epoch [10/10], Step [600/600], Loss: 0.0757\n",
      "\tTest Accuracy of the model on the 10000 test images: 0.99\n"
     ]
    }
   ],
   "source": [
    "net, criterion, optimizer = reset(CNNet, nn.CrossEntropyLoss, torch.optim.Adam, lr=0.001)\n",
    "results_cnn = train(10, loaders, net, optimizer, criterion)"
   ]
  },
  {
   "cell_type": "code",
   "execution_count": 62,
   "metadata": {},
   "outputs": [
    {
     "data": {
      "image/png": "[encoded data removed]",
      "text/plain": [
       "<Figure size 432x288 with 2 Axes>"
      ]
     },
     "metadata": {
      "needs_background": "light"
     },
     "output_type": "display_data"
    }
   ],
   "source": [
    "steps, test_steps, losses, test_losses, accuracies = results_cnn\n",
    "plot(steps, test_steps, losses, test_losses, accuracies)"
   ]
  },
  {
   "cell_type": "code",
   "execution_count": null,
   "metadata": {},
   "outputs": [],
   "source": []
  }
 ],
 "metadata": {
  "kernelspec": {
   "display_name": "Python 3",
   "language": "python",
   "name": "python3"
  },
  "language_info": {
   "codemirror_mode": {
    "name": "ipython",
    "version": 3
   },
   "file_extension": ".py",
   "mimetype": "text/x-python",
   "name": "python",
   "nbconvert_exporter": "python",
   "pygments_lexer": "ipython3",
   "version": "3.6.4"
  }
 },
 "nbformat": 4,
 "nbformat_minor": 4
}